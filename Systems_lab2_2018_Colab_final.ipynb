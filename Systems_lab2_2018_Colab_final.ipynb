{
  "nbformat": 4,
  "nbformat_minor": 0,
  "metadata": {
    "colab": {
      "name": "Systems_lab2_2018_Colab_final_w_bokeh_final.ipynb",
      "version": "0.3.2",
      "views": {},
      "default_view": {},
      "provenance": [],
      "collapsed_sections": [
        "K_1pfV5_TJn3",
        "y4Jza-TrTJoP",
        "SPhSUdHPTJpO",
        "kHIKa2ybTJpm",
        "bIJcbuPBTJrM"
      ]
    },
    "kernelspec": {
      "display_name": "Python 2",
      "language": "python",
      "name": "python2"
    }
  },
  "cells": [
    {
      "metadata": {
        "id": "hUUvxWadTJmz",
        "colab_type": "text"
      },
      "cell_type": "markdown",
      "source": [
        "# Multimedia Structure Analysis\n",
        "In this lab, you will practice with inferring the structure of audiovisual content. You will work with a **full** video (Big Buck Bunny), and will be asked to try finding strong episodical changes in the video from shot boundaries and audio novelty points.\n",
        "\n",
        "With 'strong episodical changes', we mean to find major turning points in the video's storyline, by considering the video's content.\n"
      ]
    },
    {
      "metadata": {
        "id": "7qJgOBL-TJm4",
        "colab_type": "text"
      },
      "cell_type": "markdown",
      "source": [
        "## What to hand in\n",
        "As final deliverable to demonstrate your successful completion of this assignment, please submit a file named [studentNumberMember1_studentNumberMember2.pdf] through Brightspace.\n",
        "\n",
        "This file should:\n",
        "* three detected scenes in the video (formatted as hh:mm:ss - hh:mm:ss) indicating the strongest episodical changes in the video used in this lab. Discuss what parameters and audio features you used to detect them (e.g., threshold choices, choice of audio feature, choice of similarity metric), and shortly discuss what content is displayed within these shots.\n",
        "* your ideas on what further features could contribute to picking scenes with strong episodical changes in the Big Buck Bunny video.\n",
        "\n",
        "Further instructions can be found further down this notebook, at the point where we give an example plot."
      ]
    },
    {
      "metadata": {
        "id": "Z1iMGp45TJm5",
        "colab_type": "text"
      },
      "cell_type": "markdown",
      "source": [
        "## Installing dependencies to run on Google Colab!\n",
        "We will first setup the system and install the dependencies for this lab\n",
        "\n",
        "**Note**: This cell needs to be run everytime you start a new session of the Colab Notebook"
      ]
    },
    {
      "metadata": {
        "id": "7yDoFouCTJm8",
        "colab_type": "code",
        "colab": {
          "autoexec": {
            "startup": false,
            "wait_interval": 0
          }
        }
      },
      "cell_type": "code",
      "source": [
        "import os, time\n",
        "\n",
        "\n",
        "!apt-get install -y -qq software-properties-common python-software-properties module-init-tools\n",
        "!add-apt-repository -y ppa:alessandro-strada/ppa 2>&1 > /dev/null\n",
        "!apt-get update -qq 2>&1 > /dev/null\n",
        "!apt-get -y install -qq google-drive-ocamlfuse fuse\n",
        "\n",
        "# Packages for the lab notebooks\n",
        "!apt-get -qq -y install mono-complete\n",
        "!apt-get -qq -y install libsamplerate0 libsamplerate0-dev\n",
        "!apt-get install ffmpeg\n",
        "\n",
        "!pip install --upgrade setuptools"
      ],
      "execution_count": 0,
      "outputs": []
    },
    {
      "metadata": {
        "id": "77kDwKtVTJnF",
        "colab_type": "text"
      },
      "cell_type": "markdown",
      "source": [
        "### One-time user authentication for accessing google drive folders\n",
        "\n",
        " - Open the link that comes in the output cell and copy & paste the token in the text box here.\n",
        " - If just the text box appears (i.e textbox without authentication links), then input your google password in the textbox.\n",
        "\n",
        "**Note**: This cell needs to be run everytime you start a new session of the Colab Notebook"
      ]
    },
    {
      "metadata": {
        "id": "4Z0e_aUsTJnI",
        "colab_type": "code",
        "colab": {
          "autoexec": {
            "startup": false,
            "wait_interval": 0
          }
        }
      },
      "cell_type": "code",
      "source": [
        "from google.colab import auth\n",
        "auth.authenticate_user()\n",
        "from oauth2client.client import GoogleCredentials\n",
        "creds = GoogleCredentials.get_application_default()\n",
        "import getpass\n",
        "!google-drive-ocamlfuse -headless -id={creds.client_id} -secret={creds.client_secret} < /dev/null 2>&1 | grep URL\n",
        "vcode = getpass.getpass()\n",
        "!echo {vcode} | google-drive-ocamlfuse -headless -id={creds.client_id} -secret={creds.client_secret}"
      ],
      "execution_count": 0,
      "outputs": []
    },
    {
      "metadata": {
        "id": "C7sFAEWXTJnQ",
        "colab_type": "text"
      },
      "cell_type": "markdown",
      "source": [
        "### Accessing Google Drive files\n",
        "\n",
        "In this step, we basically create an empty directory and then **mount** `google-drive`(google drive directory) on the empty directory that we have created."
      ]
    },
    {
      "metadata": {
        "id": "5xLWAmZETJnS",
        "colab_type": "code",
        "colab": {
          "autoexec": {
            "startup": false,
            "wait_interval": 0
          }
        }
      },
      "cell_type": "code",
      "source": [
        "# Check the current working directory first\n",
        "!pwd\n",
        "!ls"
      ],
      "execution_count": 0,
      "outputs": []
    },
    {
      "metadata": {
        "id": "9SHdqk-7TJnY",
        "colab_type": "code",
        "colab": {
          "autoexec": {
            "startup": false,
            "wait_interval": 0
          }
        }
      },
      "cell_type": "code",
      "source": [
        "# If the gdrive folder does not exist already then perform the following steps, else skip this\n",
        "!mkdir -p gdrive\n",
        "!google-drive-ocamlfuse gdrive\n",
        "# !google-drive-ocamlfuse nonempty gdrive"
      ],
      "execution_count": 0,
      "outputs": []
    },
    {
      "metadata": {
        "id": "tw9tnWZjTJnd",
        "colab_type": "text"
      },
      "cell_type": "markdown",
      "source": [
        "### Change working directory to the MMSR repository folder"
      ]
    },
    {
      "metadata": {
        "id": "5kiMu0iXTJng",
        "colab_type": "code",
        "colab": {
          "autoexec": {
            "startup": false,
            "wait_interval": 0
          }
        }
      },
      "cell_type": "code",
      "source": [
        "# Check the current working directory\n",
        "!pwd\n",
        "!ls"
      ],
      "execution_count": 0,
      "outputs": []
    },
    {
      "metadata": {
        "id": "mTWLWBlkTJno",
        "colab_type": "text"
      },
      "cell_type": "markdown",
      "source": [
        "#### If running for the FIRST time, **`CREATE`** a new directory for the MMSR labs.\n",
        "**NOTE**: **SKIP this cell if the directory is already created earlier.** "
      ]
    },
    {
      "metadata": {
        "id": "23K_eMXATJnq",
        "colab_type": "code",
        "colab": {
          "autoexec": {
            "startup": false,
            "wait_interval": 0
          }
        }
      },
      "cell_type": "code",
      "source": [
        "os.mkdir(\"gdrive/MMSR_lab\")"
      ],
      "execution_count": 0,
      "outputs": []
    },
    {
      "metadata": {
        "id": "6KM5aDHNTJnv",
        "colab_type": "text"
      },
      "cell_type": "markdown",
      "source": [
        "#### Change to the MMSR lab directory"
      ]
    },
    {
      "metadata": {
        "id": "_9x-4-2ATJnx",
        "colab_type": "code",
        "colab": {
          "autoexec": {
            "startup": false,
            "wait_interval": 0
          }
        }
      },
      "cell_type": "code",
      "source": [
        "# Change to the created directory\n",
        "os.chdir(\"gdrive/MMSR_lab\")\n",
        "\n",
        "# Verify if we are in the right directory\n",
        "!pwd"
      ],
      "execution_count": 0,
      "outputs": []
    },
    {
      "metadata": {
        "id": "K_1pfV5_TJn3",
        "colab_type": "text"
      },
      "cell_type": "markdown",
      "source": [
        "### Clone the MMSR repository (https://gitlab.ewi.tudelft.nl/mmc-tudelft/education/cs4065.git)\n",
        "Alternatively, you can download the MMSR repository on your local machine and then upload the repository folder manually to the `MMSR_lab` folder.\n",
        "\n",
        "**NOTE 1**: Sometimes, this step takes a lot of time to download the git repository from the GitLab. We suggest you to download/clone the above repository on your local machine first and then, upload the downloaded/cloned folder to your Google drive; inside the `MMSR_lab` folder.\n",
        "\n",
        "**NOTE 2**: Skip this cell if the repository is already cloned or uploaded manually"
      ]
    },
    {
      "metadata": {
        "id": "ayttUQgdTJn6",
        "colab_type": "code",
        "colab": {
          "autoexec": {
            "startup": false,
            "wait_interval": 0
          }
        }
      },
      "cell_type": "code",
      "source": [
        "!git clone https://gitlab.ewi.tudelft.nl/mmc-tudelft/education/cs4065.git"
      ],
      "execution_count": 0,
      "outputs": []
    },
    {
      "metadata": {
        "id": "aG0LPzKNTJoB",
        "colab_type": "text"
      },
      "cell_type": "markdown",
      "source": [
        "**Important**: Check if the repository exists in the current directory"
      ]
    },
    {
      "metadata": {
        "id": "ZPu47bTXTJoD",
        "colab_type": "code",
        "colab": {
          "autoexec": {
            "startup": false,
            "wait_interval": 0
          }
        }
      },
      "cell_type": "code",
      "source": [
        "!ls"
      ],
      "execution_count": 0,
      "outputs": []
    },
    {
      "metadata": {
        "id": "Frrxqc5FTJoJ",
        "colab_type": "code",
        "colab": {
          "autoexec": {
            "startup": false,
            "wait_interval": 0
          }
        }
      },
      "cell_type": "code",
      "source": [
        "# Change directory to the repository\n",
        "os.chdir(\"cs4065\")\n",
        "!ls"
      ],
      "execution_count": 0,
      "outputs": []
    },
    {
      "metadata": {
        "id": "y4Jza-TrTJoP",
        "colab_type": "text"
      },
      "cell_type": "markdown",
      "source": [
        "### Pull the updated git repository \n",
        "\n",
        "**NOTE 1**: Sometimes, this step takes a lot of time to update the git repository. We suggest you to download/clone/pull the above repository on your local machine first and then, upload the downloaded/cloned folder to your Google drive; inside the `MMSR_lab` folder."
      ]
    },
    {
      "metadata": {
        "id": "Dnhc-Vs2TJoR",
        "colab_type": "code",
        "colab": {
          "autoexec": {
            "startup": false,
            "wait_interval": 0
          }
        }
      },
      "cell_type": "code",
      "source": [
        "!git pull"
      ],
      "execution_count": 0,
      "outputs": []
    },
    {
      "metadata": {
        "id": "-nYODjorTJoX",
        "colab_type": "text"
      },
      "cell_type": "markdown",
      "source": [
        "### Install python dependencies for this lab exercise\n",
        "\n",
        "Python requirements for the **Colab Notebook** versions can be found in the *colab_requirements* directory\n",
        "\n",
        "For this lab, run `systems-lab2-requirements.txt`"
      ]
    },
    {
      "metadata": {
        "id": "XTAkg0eATJoa",
        "colab_type": "code",
        "colab": {
          "autoexec": {
            "startup": false,
            "wait_interval": 0
          }
        }
      },
      "cell_type": "code",
      "source": [
        "!pip install -r colab_requirements/systems-lab2-requirements.txt\n",
        "!pip install bokeh"
      ],
      "execution_count": 0,
      "outputs": []
    },
    {
      "metadata": {
        "id": "9mOtvPhcTJoj",
        "colab_type": "text"
      },
      "cell_type": "markdown",
      "source": [
        "## Getting started\n",
        "\n",
        "As usual, we will first import necessary libraries."
      ]
    },
    {
      "metadata": {
        "id": "OYuGuLBYTJoj",
        "colab_type": "code",
        "colab": {
          "autoexec": {
            "startup": false,
            "wait_interval": 0
          }
        }
      },
      "cell_type": "code",
      "source": [
        "import datetime\n",
        "import numpy as np\n",
        "import os\n",
        "import urllib\n",
        "\n",
        "import cv2\n",
        "import librosa\n",
        "import matplotlib.pyplot as plt\n",
        "# Instead of %matplotlib inline we use %matplotlib notebook this time.\n",
        "# This allows for more interactive examination of graphs, which will be useful\n",
        "# as you will manually inspect the results curves.\n",
        "%matplotlib notebook\n",
        "from scipy.signal import resample\n",
        "from scipy.signal import find_peaks_cwt\n",
        "from scipy.spatial import distance\n",
        "\n",
        "from IPython.display import Audio\n",
        "from IPython.display import YouTubeVideo\n",
        "\n",
        "from cvtools import ipynb_show_cv2_image\n",
        "from cvtools import VideoReader\n",
        "\n",
        "from bokeh.plotting import figure, show\n",
        "from bokeh.io import output_notebook\n",
        "from bokeh.models import HoverTool\n",
        "\n",
        "\n",
        "def bokeh_imshow(img, title=None, colormap='Spectral11'):\n",
        "    \"\"\"\"\"\"\n",
        "    hover = HoverTool(tooltips=[\n",
        "        # (\"index\", \"$index\"),\n",
        "        (\"(x,y)\", \"($x, $y)\"),\n",
        "        (\"value\", \"@image\")\n",
        "    ])\n",
        "    output_notebook()\n",
        "    w, h = img.shape\n",
        "    p = figure(title=title, tools=[hover], x_range=(0, w), y_range=(0, h))\n",
        "    p.image([img], x=0, y=0, dw=w, dh=h, palette=colormap)\n",
        "    show(p)\n",
        "    \n",
        "def bokeh_plot(data, title=None, plot_width=800, plot_height=250,\n",
        "               x_axis_label=None, y_axis_label=None, plot_color='blue'):\n",
        "    \"\"\"\"\"\"\n",
        "    hover = HoverTool(tooltips=[\n",
        "        # (\"index\", \"$index\"),\n",
        "        (\"(x,y)\", \"($x, $y)\"),\n",
        "        (\"value\", \"@y\")\n",
        "    ])\n",
        "    output_notebook()\n",
        "    p = figure(\n",
        "        title=title, tools=[hover],\n",
        "        plot_width=plot_width, plot_height=plot_height,\n",
        "        x_axis_label=x_axis_label, y_axis_label=y_axis_label,\n",
        "    )    \n",
        "    p.line(np.arange(len(data)), data, line_color=plot_color)\n",
        "    show(p)\n",
        "    \n",
        "def bokeh_plot_n_peak(plot_data, peak_data_x, peak_data_y,\n",
        "                      title=None, plot_width=800, plot_height=250,\n",
        "                      x_axis_label=None, y_axis_label=None, plot_color='blue'):\n",
        "    \"\"\"\"\"\"    \n",
        "    hover = HoverTool(tooltips=[\n",
        "        # (\"index\", \"$index\"),\n",
        "        (\"(x,y)\", \"($x, $y)\"),\n",
        "        (\"value\", \"@y\")\n",
        "    ])\n",
        "    output_notebook()\n",
        "    p = figure(\n",
        "        title=title, tools=[hover],\n",
        "        plot_width=plot_width, plot_height=plot_height,\n",
        "        x_axis_label=x_axis_label, y_axis_label=y_axis_label\n",
        "    )\n",
        "    p.line(np.arange(len(plot_data)), plot_data, line_color=plot_color)\n",
        "    p.circle(peak_data_x, peak_data_y, fill_color=None, line_color='red')\n",
        "    show(p)"
      ],
      "execution_count": 0,
      "outputs": []
    },
    {
      "metadata": {
        "id": "Tgid0bzvTJon",
        "colab_type": "text"
      },
      "cell_type": "markdown",
      "source": [
        "You will be analyzing the Blender video 'Big Buck Bunny'. Let's first check out the full (audiovisual) video, which is available on YouTube, below:"
      ]
    },
    {
      "metadata": {
        "id": "CRfi38u7TJor",
        "colab_type": "code",
        "colab": {
          "autoexec": {
            "startup": false,
            "wait_interval": 0
          }
        }
      },
      "cell_type": "code",
      "source": [
        "YouTubeVideo(\"YE7VzlLtp-4\")"
      ],
      "execution_count": 0,
      "outputs": []
    },
    {
      "metadata": {
        "id": "SCSyNWsdTJoz",
        "colab_type": "text"
      },
      "cell_type": "markdown",
      "source": [
        "As you can notice, the video contains several semantic episodes, and within each episode several highlights or surprising events occur. In this lab, we will investigate to what extent structural segmentation and highlight detection could be performed based on audiovisual analysis.\n",
        "\n",
        "We will initially consider the visual and audio domain separately in the analysis. For convenience, we already made a separate video and audio track available to you."
      ]
    },
    {
      "metadata": {
        "id": "s49v2UWSTJo0",
        "colab_type": "code",
        "colab": {
          "autoexec": {
            "startup": false,
            "wait_interval": 0
          }
        }
      },
      "cell_type": "code",
      "source": [
        "# DATA_PATH = '/home/student/data/cs4065/mm_structure_analysis'\n",
        "DATA_PATH = os.path.join(os.getcwd(), \"data/mm_structure_analysis\")\n",
        "\n",
        "VIDEO_URL = 'https://www.dropbox.com/s/g8ta0t47hzz40u0/BigBuckBunny_video.mp4?dl=1'\n",
        "VIDEO_PATH = os.path.join(DATA_PATH, 'BigBuckBunny_video.mp4')\n",
        "\n",
        "AUDIO_URL = 'https://www.dropbox.com/s/doqcxtojqigo4s0/BigBuckBunny_audio.aac?dl=1'\n",
        "AUDIO_PATH = os.path.join(DATA_PATH, 'BigBuckBunny_audio.aac')\n",
        "\n",
        "def fetch_data(url, filepath):\n",
        "  if os.path.exists(filepath):\n",
        "    print '<%s> already available' %  url\n",
        "    return filepath\n",
        "  try:\n",
        "    os.makedirs(os.path.dirname(filepath))\n",
        "  except:\n",
        "    pass\n",
        "  print 'fetching <%s>...' %  url,\n",
        "  (filepath, _) = urllib.urlretrieve(url, filepath)\n",
        "  print 'done.'\n",
        "  return filepath\n",
        "\n",
        "\n",
        "_ = fetch_data(VIDEO_URL, VIDEO_PATH)\n",
        "_ = fetch_data(AUDIO_URL, AUDIO_PATH)"
      ],
      "execution_count": 0,
      "outputs": []
    },
    {
      "metadata": {
        "id": "fn7xljISTJo7",
        "colab_type": "text"
      },
      "cell_type": "markdown",
      "source": [
        "## Video analysis\n",
        "You will have to find shot/scene boundaries in the given video. To simplify our implementation, in this lab, we will extract a feature vector for each frame, and then compute a **full** self-similarity matrix.\n",
        "\n",
        "Note that this approach is good for visualization, but not for efficiency. In case you would ever need to implement a more efficient solution, you can iterate over the frames using a buffer of past frames (or features derived from them), avoiding keeping them all in memory. Furthermore, self-similarity can efficiently be computed by using a circular buffer of feature vectors, and when you would be interested in novelty detection, it may be enough to restrict your analysis to a band close to the self-similarity matrix diagonal. If you are interested in how to implement this, see the documentation for <code>mirsimatrix()</code> in https://www.jyu.fi/hum/laitokset/musiikki/en/research/coe/materials/mirtoolbox/MIRtoolbox1.6.1guide (from page 163 on)---in particular, the \"Width\" option, which enables to restrict to a diagonal bandwidth only.\n",
        "\n",
        "In any case, as said before, in the current lab, we will just consider a full analysis of our video."
      ]
    },
    {
      "metadata": {
        "id": "Rp4fSuBMTJo_",
        "colab_type": "text"
      },
      "cell_type": "markdown",
      "source": [
        "### Reading a video\n",
        "Below, we show how to read a video."
      ]
    },
    {
      "metadata": {
        "id": "XoeG7eyvTJpA",
        "colab_type": "code",
        "colab": {
          "autoexec": {
            "startup": false,
            "wait_interval": 0
          }
        }
      },
      "cell_type": "code",
      "source": [
        "# Let's open the video and read its properties.\n",
        "video_reader = VideoReader()\n",
        "video_reader.open(VIDEO_PATH)\n",
        "\n",
        "# Video duration (in seconds).\n",
        "video_duration = float(\n",
        "    video_reader.get_number_of_frames()) / float(video_reader.get_frame_rate())\n",
        "\n",
        "print 'resolution: %d x %d' % (video_reader.get_width(), video_reader.get_height())\n",
        "print 'number of frames: %d' % video_reader.get_number_of_frames()\n",
        "print 'duration: %s' % datetime.timedelta(seconds=video_duration)"
      ],
      "execution_count": 0,
      "outputs": []
    },
    {
      "metadata": {
        "id": "h1C4ZF7-TJpG",
        "colab_type": "text"
      },
      "cell_type": "markdown",
      "source": [
        "*The <code>VideoReader</code> class is very simple and has no <code>seek()</code> method. Therefore, the next frame to be read by VideoReader always is the next unread frame in the video. if you want to read the same video multiple times, you need to re-open it (and re-instantiate <code>video_reader</code> if you want to open the same video).*\n",
        "\n",
        "We first examine a number of frames in the first 10 seconds of the video (feel free to experiment with the parameters)."
      ]
    },
    {
      "metadata": {
        "id": "uocaudPwTJpI",
        "colab_type": "code",
        "colab": {
          "autoexec": {
            "startup": false,
            "wait_interval": 0
          }
        }
      },
      "cell_type": "code",
      "source": [
        "# Re-open the video to now process it from the start.\n",
        "video_reader = VideoReader()\n",
        "video_reader.open(VIDEO_PATH)\n",
        "\n",
        "# Read a number of video frames (say, the first 10 seconds).\n",
        "video_fps = video_reader.get_frame_rate()\n",
        "sampling_period = int(3.0 * video_fps)  # One every 3 seconds.\n",
        "stop_at = int(10.0 * video_fps)  # For the first 10 seconds.\n",
        "\n",
        "%matplotlib inline\n",
        "\n",
        "for frame in video_reader.get_frames():\n",
        "  index = video_reader.get_current_frame_index()\n",
        "  if 0 != index % sampling_period:\n",
        "    continue\n",
        "  ipynb_show_cv2_image(frame, 'frame %d' % index)\n",
        "  if index > stop_at:\n",
        "    break"
      ],
      "execution_count": 0,
      "outputs": []
    },
    {
      "metadata": {
        "id": "SPhSUdHPTJpO",
        "colab_type": "text"
      },
      "cell_type": "markdown",
      "source": [
        "### Extract frame features\n",
        "We will now extract HS color histograms for each frame in the video and downsample the resulting feature matrix by retaining 1 histogram per second."
      ]
    },
    {
      "metadata": {
        "id": "XuSTapIdTJpP",
        "colab_type": "text"
      },
      "cell_type": "markdown",
      "source": [
        "### Question\n",
        "Complete the <code>extract_frame_hs_histogram()</code> function below, so it will extract HS color histograms. Use 8 bins for each channel when computing the histogram; the ranges for the H and S channels are 0-180 and 0-256 respectively.\n",
        "\n",
        "*If you are lost, check back on what you did in the second lab assignment (week 2) of this course.*\n",
        "\n",
        "NB: when computing your histogram, verify its dimensions with <code>np.shape()<code>. In case the histogram originally is stored as a matrix, use <code>np.flatten()</code> to make sure that you return a vector (and not a matrix)."
      ]
    },
    {
      "metadata": {
        "id": "HkCM9dFlTJpR",
        "colab_type": "code",
        "colab": {
          "autoexec": {
            "startup": false,
            "wait_interval": 0
          }
        }
      },
      "cell_type": "code",
      "source": [
        "def extract_frame_hs_histogram(frame):\n",
        "  # TODO: replace empty list by actual histogram.\n",
        "  histogram = []\n",
        "  return histogram / np.sum(histogram)  # Return a normalized histogram.\n",
        "\n",
        "\n",
        "# Find the size of the hs histograms computed by extract_frame_hs_histogram().\n",
        "# We do this by passing an 8x8 black patch.\n",
        "histogram_size = len(extract_frame_hs_histogram(np.zeros((8, 8, 3), dtype=np.uint8)))\n",
        "print 'HS histogram size: %d' % histogram_size"
      ],
      "execution_count": 0,
      "outputs": []
    },
    {
      "metadata": {
        "id": "XKed_rp9TJpV",
        "colab_type": "text"
      },
      "cell_type": "markdown",
      "source": [
        "You now have to extract the matrix of HS histograms."
      ]
    },
    {
      "metadata": {
        "id": "eQseVsp0TJpX",
        "colab_type": "code",
        "colab": {
          "autoexec": {
            "startup": false,
            "wait_interval": 0
          }
        }
      },
      "cell_type": "code",
      "source": [
        "# Re-open the video to now process it from the start.\n",
        "video_reader = VideoReader()\n",
        "video_reader.open(VIDEO_PATH)\n",
        "\n",
        "# Initialize the matrix (one row for each frame).\n",
        "hs_histogram_matrix = np.zeros((\n",
        "    video_reader.get_number_of_frames(), histogram_size))\n",
        "\n",
        "# Compute features per frame. Note this will take some time.\n",
        "for frame in video_reader.get_frames():\n",
        "  index = video_reader.get_current_frame_index()\n",
        "  hs_histogram_matrix[index, :] = extract_frame_hs_histogram(frame)"
      ],
      "execution_count": 0,
      "outputs": []
    },
    {
      "metadata": {
        "id": "1G3Z3_G-TJpb",
        "colab_type": "text"
      },
      "cell_type": "markdown",
      "source": [
        "We now have a histogram per frame. We will resample the data to keep one value per second."
      ]
    },
    {
      "metadata": {
        "id": "1Bg45Z3JTJpc",
        "colab_type": "code",
        "colab": {
          "autoexec": {
            "startup": false,
            "wait_interval": 0
          }
        }
      },
      "cell_type": "code",
      "source": [
        "number_of_seconds = int(np.round(video_duration))\n",
        "hs_histogram_matrix_resampled = np.array(resample(hs_histogram_matrix, number_of_seconds)).astype(np.float32)\n",
        "\n",
        "print 'HS histogram matrix size: %d x %d' % np.shape(hs_histogram_matrix_resampled)\n",
        "\n",
        "# Remove the full size HS histogram matrix (we don't need it anymore).\n",
        "del hs_histogram_matrix"
      ],
      "execution_count": 0,
      "outputs": []
    },
    {
      "metadata": {
        "id": "kHIKa2ybTJpm",
        "colab_type": "text"
      },
      "cell_type": "markdown",
      "source": [
        "### Self-similarity analysis\n",
        "To understand the structure of the video, we will proceed by conducting a self-similarity analysis. For any type of stream, the self-similarity matrix is computed using two \"ingredients\": (i) a matrix of feature vectors representing the stream and (ii) a similarity function to compare feature vector pairs."
      ]
    },
    {
      "metadata": {
        "id": "P-o8rtb7TJpn",
        "colab_type": "text"
      },
      "cell_type": "markdown",
      "source": [
        "### Question\n",
        "Complete <code>hs_histograms_similarity()</code> (HS histograms similarity function) using the intersection area similarity metric. When passing numpy arrays to Open CV functions, cast them to float 32 using <code>my_array.astype(np.float32)</code>."
      ]
    },
    {
      "metadata": {
        "id": "TYrbPSr3TJpn",
        "colab_type": "code",
        "colab": {
          "autoexec": {
            "startup": false,
            "wait_interval": 0
          }
        }
      },
      "cell_type": "code",
      "source": [
        "def hs_histograms_similarity(hs_histogram0, hs_histogram1):\n",
        "  # TODO: implement.\n",
        "  return 0.0\n",
        "\n",
        "\n",
        "# Example.\n",
        "print '100 vs 101: %.6f' % hs_histograms_similarity(\n",
        "    hs_histogram_matrix_resampled[100, :],\n",
        "    hs_histogram_matrix_resampled[101, :])\n",
        "\n",
        "print '100 vs 105: %.6f' % hs_histograms_similarity(\n",
        "    hs_histogram_matrix_resampled[100, :],\n",
        "    hs_histogram_matrix_resampled[105, :])"
      ],
      "execution_count": 0,
      "outputs": []
    },
    {
      "metadata": {
        "id": "uqKaYxLBTJpx",
        "colab_type": "text"
      },
      "cell_type": "markdown",
      "source": [
        "We now will define a function called <code>compute_self_similarity</code> that computes a square self-similarity matrix, given a matrix of feature vectors that represents a stream (video, audio) over time.\n",
        "\n",
        "The second parameter, named <code>similarity_function</code>, is a function handle that uses your <code>hs_histogram_similarity</code> function by default. You can however use any other similarity function of your choice. (If you would like to do this, do keep in mind that we want to measure *similarity* (and not distance))"
      ]
    },
    {
      "metadata": {
        "id": "BTg1ncnkTJpy",
        "colab_type": "text"
      },
      "cell_type": "markdown",
      "source": [
        "### Question\n",
        "Complete the <code>compute_self_similarity()</code> function below.\n",
        "\n",
        "Some questions to think of when doing this:\n",
        "- the result should be a matrix. What should be the dimensions of this matrix?\n",
        "- what does each element in this matrix represent? Here, your similarity function will have to be used."
      ]
    },
    {
      "metadata": {
        "id": "5qvufR3RTJpz",
        "colab_type": "code",
        "colab": {
          "autoexec": {
            "startup": false,
            "wait_interval": 0
          }
        }
      },
      "cell_type": "code",
      "source": [
        "def compute_self_similarity(feature_vector_matrix, similarity_function = hs_histograms_similarity):\n",
        "  # TODO: implement. \n",
        "  # For calling the similarity function, you can just use similarity_function(first_vector, second_vector).\n",
        "  return []"
      ],
      "execution_count": 0,
      "outputs": []
    },
    {
      "metadata": {
        "id": "dIEis8NcTJp2",
        "colab_type": "text"
      },
      "cell_type": "markdown",
      "source": [
        "Let's now build the self-similarity matrix."
      ]
    },
    {
      "metadata": {
        "id": "DyIGWgm4TJp5",
        "colab_type": "code",
        "colab": {
          "autoexec": {
            "startup": false,
            "wait_interval": 0
          }
        }
      },
      "cell_type": "code",
      "source": [
        "hs_histograms_self_similarity = compute_self_similarity(\n",
        "    hs_histogram_matrix_resampled, hs_histograms_similarity)\n",
        "print 'HS histograms self-similarity matrix size: %d x %d' % np.shape(hs_histograms_self_similarity)"
      ],
      "execution_count": 0,
      "outputs": []
    },
    {
      "metadata": {
        "id": "2MbQszJATJp8",
        "colab_type": "text"
      },
      "cell_type": "markdown",
      "source": [
        "Subsequently, we will visualize the self-similarity matrix as an image."
      ]
    },
    {
      "metadata": {
        "id": "20GPi88wTJp8",
        "colab_type": "code",
        "colab": {
          "autoexec": {
            "startup": false,
            "wait_interval": 0
          }
        }
      },
      "cell_type": "code",
      "source": [
        "bokeh_imshow(hs_histograms_self_similarity)"
      ],
      "execution_count": 0,
      "outputs": []
    },
    {
      "metadata": {
        "id": "Gmbx4fyhTJp_",
        "colab_type": "text"
      },
      "cell_type": "markdown",
      "source": [
        "### Novelty curve\n",
        "The self-similarity matrix shows blocks around the diagonal that correspond to regions of high self-similarity. As discussed in the lecture, detecting transitions between these blocks can point you to *novelty* points, indicating that a new coherent episode is starting. Therefore, we will now focus on extracting a *novelty curve*.\n",
        "\n",
        "To this end, you have to create a 2D square *kernel* matrix of arbitrary size. It will be used to slide along the diagonal of the self-similarity matrix to compute the correlation with the block it lies on. Sliding along the diagonal corresponds to moving along the timeline of the analyzed stream.\n",
        "\n",
        "We first show the *checkerboard kernel*; then, you will have to compute a smoother version of it called *Gaussian checkerboard kernel* (by completing <code>compute_gaussian_checkerboard_kernel()</code>)."
      ]
    },
    {
      "metadata": {
        "id": "7aYvyz0GTJqA",
        "colab_type": "code",
        "colab": {
          "autoexec": {
            "startup": false,
            "wait_interval": 0
          }
        }
      },
      "cell_type": "code",
      "source": [
        "def compute_checkerboard_kernel(kernel_size = 10):\n",
        "  # This is the size on a side of the kernel.\n",
        "  kernel_side = int(np.ceil(kernel_size / 2.0))\n",
        "\n",
        "  # Initialize.\n",
        "  kernel = np.ones((kernel_size, kernel_size))\n",
        "  \n",
        "  # Set the top-right and bottom-left blocks to -1.\n",
        "  kernel[0:kernel_side, kernel_side:] = -1.0\n",
        "  kernel[kernel_side:, 0:kernel_side] = -1.0\n",
        "  \n",
        "  return kernel\n",
        "\n",
        "\n",
        "%matplotlib inline\n",
        "\n",
        "fig = plt.figure('Checkerboard kernel')\n",
        "cax = plt.imshow(\n",
        "    compute_checkerboard_kernel(), interpolation='nearest', cmap='gray')\n",
        "fig.colorbar(cax)"
      ],
      "execution_count": 0,
      "outputs": []
    },
    {
      "metadata": {
        "id": "mxKu_xiQTJqD",
        "colab_type": "text"
      },
      "cell_type": "markdown",
      "source": [
        "The Gaussian checkerboard kernel is a smoother version of the checkerboard kernel displayed above. Similarity values around its center are weighted more than those at the edges. Using this instead of the checkerboard kernel leads to a smoother novelty curve.\n",
        "\n",
        "Use the following definition of 2D Gaussian (centered in the middle of the kernel) to complete <code>gaussian_checkerboard_kernel()</code>:\n",
        "\n",
        "$$\n",
        "f(x, y) = exp(- 4 \\cdot [\\frac{(x - \\mu)^2}{\\mu^2} + \\frac{(y - \\mu)^2}{\\mu^2}])\n",
        "$$\n",
        "\n",
        "where $\\mu$ is equal to <code>kernel_side</code> (see its value in <code>checkerboard_kernel()</code>).\n",
        "\n",
        "*Tip: re-use <code>checkerboard_kernel()</code>.*"
      ]
    },
    {
      "metadata": {
        "id": "76xaqtg6TJqE",
        "colab_type": "text"
      },
      "cell_type": "markdown",
      "source": [
        "### Question\n",
        "Complete <code>compute_gaussian_checkerboard_kernel()</code>."
      ]
    },
    {
      "metadata": {
        "id": "FfRNdXKMTJqE",
        "colab_type": "code",
        "colab": {
          "autoexec": {
            "startup": false,
            "wait_interval": 0
          }
        }
      },
      "cell_type": "code",
      "source": [
        "def compute_gaussian_checkerboard_kernel(kernel_size = 10):\n",
        "  # TODO: implement.\n",
        "  return []\n",
        "\n",
        "\n",
        "%matplotlib inline\n",
        "\n",
        "fig = plt.figure('Gaussian checkerboard kernel')\n",
        "cax = plt.imshow(\n",
        "    compute_gaussian_checkerboard_kernel(64), interpolation='nearest', cmap='gray')\n",
        "fig.colorbar(cax)"
      ],
      "execution_count": 0,
      "outputs": []
    },
    {
      "metadata": {
        "id": "uwG1-MmNTJqI",
        "colab_type": "text"
      },
      "cell_type": "markdown",
      "source": [
        "As anticipated above, the last step is computing the correlation of the kernel with self-similarity blocks extracted along the diagonal. Note that the kernel always is centered around the time points it is targeting for calculation; as a consequence, its scope will slightly 'fall outside' the self-similarity matrix boundaries when targeting the very first and very last seconds of the video.\n",
        "\n",
        "To deal with this, we will apply zero padding to the self-similarity matrix, adding extra zeros around the matrix to handle the boundary cases at the start and end of the analysis."
      ]
    },
    {
      "metadata": {
        "id": "CX4Tn-PCTJqI",
        "colab_type": "text"
      },
      "cell_type": "markdown",
      "source": [
        "### Question\n",
        "Complete the function <code>compute_novelty()</code>."
      ]
    },
    {
      "metadata": {
        "id": "kQE2EwGaTJqK",
        "colab_type": "code",
        "colab": {
          "autoexec": {
            "startup": false,
            "wait_interval": 0
          }
        }
      },
      "cell_type": "code",
      "source": [
        "def compute_novelty(self_similarity_matrix, kernel):\n",
        "  diag_length = np.shape(self_similarity_matrix)[0]\n",
        "  kernel_size = np.shape(kernel)[0]\n",
        "  kernel_size_half = int(np.ceil(kernel_size / 2.0))\n",
        "  \n",
        "  # Pad the self-similarity matrix.\n",
        "  padded_size = 0  # TODO: the padding size is not zero. Replace this with the correct value\n",
        "\n",
        "  padded_self_sim_matrix = np.zeros((padded_size, padded_size))\n",
        "  stop = - kernel_size_half + int(1 == kernel_size % 2)\n",
        "  padded_self_sim_matrix[\n",
        "      kernel_size_half:stop,\n",
        "      kernel_size_half:stop] = self_similarity_matrix\n",
        "  \n",
        "  # Compute novelty.\n",
        "  novelty = np.zeros(diag_length)\n",
        "  for x in range(diag_length):\n",
        "    stop = 0  # TODO: compute the first excluded index in the interval x:stop (see below).\n",
        "    sub_block = padded_self_sim_matrix[x:stop, x:stop]\n",
        "    novelty[x] = np.sum(sub_block * kernel)  # Correlation between the kernel and the subblock.\n",
        "    \n",
        "  return novelty"
      ],
      "execution_count": 0,
      "outputs": []
    },
    {
      "metadata": {
        "id": "v2yD7Q3uTJqO",
        "colab_type": "code",
        "colab": {
          "autoexec": {
            "startup": false,
            "wait_interval": 0
          }
        }
      },
      "cell_type": "code",
      "source": [
        "video_novelty = compute_novelty(\n",
        "    hs_histograms_self_similarity, compute_gaussian_checkerboard_kernel(32))\n",
        "\n",
        "bokeh_plot(video_novelty, title='Video Novelty')"
      ],
      "execution_count": 0,
      "outputs": []
    },
    {
      "metadata": {
        "id": "KYxlkvcqTJqQ",
        "colab_type": "text"
      },
      "cell_type": "markdown",
      "source": [
        "## Audio analysis\n",
        "So far, we considered the video channel. We will now compute a novelty curve for the audio stream in similar fashion.\n",
        "\n",
        "In general, long audio signals can efficiently be analyzed by using the sliding window technique: as shown in the picture below, the signal is split into (overlapping) frames of fixed size (which, for efficiency, is a power of 2) and each frame is analyzed independetly. The output is a list of feature vectors (one per frame).\n",
        "\n",
        "<p style=\"text-align: center;\"><a href=\"https://commons.wikimedia.org/wiki/File:Depiction_of_overlap-add_algorithm.png#/media/File:Depiction_of_overlap-add_algorithm.png\"><img src=\"https://upload.wikimedia.org/wikipedia/commons/7/77/Depiction_of_overlap-add_algorithm.png\" style=\"width: 640px\" alt=\"Depiction of overlap-add algorithm.png\"></a><br>By en:Bob K (modifications), <a href=\"//en.wikipedia.org/wiki/en:User:Paolostar\" class=\"extiw\" title=\"w:en:User:Paolostar\">User:Paolostar</a>, Paolo Serena (original, released for free use) - en wikipedia, derived from <a href=\"//en.wikipedia.org/wiki/en:File:Oa_idea.jpg\" class=\"extiw\" title=\"w:en:File:Oa idea.jpg\">w:en:File:Oa idea.jpg</a> by <a href=\"//en.wikipedia.org/wiki/en:User:Paolostar\" class=\"extiw\" title=\"w:en:User:Paolostar\">User:Paolostar</a>, Paolo Serena, University of Parma (Italy), Public Domain, https://commons.wikimedia.org/w/index.php?curid=5015398</p>"
      ]
    },
    {
      "metadata": {
        "id": "IDid14BTTJqQ",
        "colab_type": "text"
      },
      "cell_type": "markdown",
      "source": [
        "### Reading an audio file\n",
        "Let's read the audio file and print some of its properties."
      ]
    },
    {
      "metadata": {
        "id": "udgEbL-iTJqR",
        "colab_type": "code",
        "colab": {
          "autoexec": {
            "startup": false,
            "wait_interval": 0
          }
        }
      },
      "cell_type": "code",
      "source": [
        "audio_signal, sample_rate = librosa.core.load(AUDIO_PATH)"
      ],
      "execution_count": 0,
      "outputs": []
    },
    {
      "metadata": {
        "id": "4TxMhSCKTJqW",
        "colab_type": "code",
        "colab": {
          "autoexec": {
            "startup": false,
            "wait_interval": 0
          }
        }
      },
      "cell_type": "code",
      "source": [
        "# Audio duration (in seconds).\n",
        "number_of_audio_samples = len(audio_signal)\n",
        "audio_duration = float(\n",
        "    number_of_audio_samples / float(sample_rate))\n",
        "\n",
        "print 'sample rate: %d' % sample_rate\n",
        "print 'number of samples: %d' % number_of_audio_samples\n",
        "print 'duration: %s' % datetime.timedelta(seconds=audio_duration)"
      ],
      "execution_count": 0,
      "outputs": []
    },
    {
      "metadata": {
        "id": "601l26rXTJqY",
        "colab_type": "code",
        "colab": {
          "autoexec": {
            "startup": false,
            "wait_interval": 0
          }
        }
      },
      "cell_type": "code",
      "source": [
        "# When defining the frame size, we want a frame with a length which is a power of 2\n",
        "# (in order for Fast Fourier Transform techniques to be applicable).\n",
        "# Let's add a function to find the smallest next power of 2 for a given number.\n",
        "\n",
        "def next_pow_2(x):\n",
        "    \"\"\"Smallest next power of two of a given value x.\"\"\"\n",
        "    return 1 << (x - 1).bit_length()"
      ],
      "execution_count": 0,
      "outputs": []
    },
    {
      "metadata": {
        "id": "Xokkol2WTJqb",
        "colab_type": "code",
        "colab": {
          "autoexec": {
            "startup": false,
            "wait_interval": 0
          }
        }
      },
      "cell_type": "code",
      "source": [
        "# Sliding window analysis parameters.\n",
        "audio_frame_size = next_pow_2(int(sample_rate / 4.0))  # i.e., about 0.25 seconds.\n",
        "audio_hop_size = int(audio_frame_size / 2.0)  # i.e., 50% overlap.\n",
        "print ' - sliding window analysis'\n",
        "print '   frame size: %d' % audio_frame_size\n",
        "print '   hop size: %d' % audio_hop_size"
      ],
      "execution_count": 0,
      "outputs": []
    },
    {
      "metadata": {
        "id": "wZXCfhFLTJqk",
        "colab_type": "text"
      },
      "cell_type": "markdown",
      "source": [
        "### Self-similarity analysis\n",
        "We first compute the self-similarity matrix for an audio feature called Chroma (which was discussed in the lectures). Later on, you will have to do the same using MFCCs."
      ]
    },
    {
      "metadata": {
        "id": "2SPCivhQTJqk",
        "colab_type": "code",
        "colab": {
          "autoexec": {
            "startup": false,
            "wait_interval": 0
          }
        }
      },
      "cell_type": "code",
      "source": [
        "# Extract Chroma vectors.\n",
        "chroma_matrix = librosa.feature.chroma_stft(\n",
        "    audio_signal, n_fft=audio_frame_size, hop_length=audio_hop_size)"
      ],
      "execution_count": 0,
      "outputs": []
    },
    {
      "metadata": {
        "id": "Fo19z3amTJqn",
        "colab_type": "text"
      },
      "cell_type": "markdown",
      "source": [
        "Reduce the data to process by resampling the feature matrix. We will keep one value per second."
      ]
    },
    {
      "metadata": {
        "id": "9RMBgYrXTJqo",
        "colab_type": "code",
        "colab": {
          "autoexec": {
            "startup": false,
            "wait_interval": 0
          }
        }
      },
      "cell_type": "code",
      "source": [
        "number_of_seconds = int(np.round(audio_duration))\n",
        "chroma_matrix_resampled = np.array(resample(chroma_matrix.transpose(), number_of_seconds))\n",
        "\n",
        "print 'Chroma feature matrix size: %d x %d' % np.shape(chroma_matrix_resampled)\n",
        "\n",
        "# Remove the full size Chroma matrix (we don't need it anymore).\n",
        "del chroma_matrix"
      ],
      "execution_count": 0,
      "outputs": []
    },
    {
      "metadata": {
        "id": "ohrow8SCTJqs",
        "colab_type": "text"
      },
      "cell_type": "markdown",
      "source": [
        "### Question\n",
        "Compute and plot the Chroma self-similarity matrix using the cosine distance. To do that, replace the empty matrix below by the actual self-similarity matrix. Feel free to create a helper function for this. Also note that you could use pdist() (as you did in the very first lab) as an intermediate step, but then you would still have to convert dissimilarity into similarity. "
      ]
    },
    {
      "metadata": {
        "id": "cjKYVnxBTJqs",
        "colab_type": "code",
        "colab": {
          "autoexec": {
            "startup": false,
            "wait_interval": 0
          }
        }
      },
      "cell_type": "code",
      "source": [
        "chroma_self_similarity = []  # TODO: replace this empty matrix by an actual self-similarity matrix.\n",
        "\n",
        "print 'Chroma self-similarity matrix size: %d x %d' % np.shape(chroma_self_similarity)"
      ],
      "execution_count": 0,
      "outputs": []
    },
    {
      "metadata": {
        "id": "iOqsB0l2TJqv",
        "colab_type": "code",
        "colab": {
          "autoexec": {
            "startup": false,
            "wait_interval": 0
          }
        }
      },
      "cell_type": "code",
      "source": [
        "# inspect the results visually\n",
        "bokeh_imshow(chroma_self_similarity)"
      ],
      "execution_count": 0,
      "outputs": []
    },
    {
      "metadata": {
        "id": "Jcw81ymDTJqz",
        "colab_type": "text"
      },
      "cell_type": "markdown",
      "source": [
        "### Question\n",
        "Extract the MFCCs matrix for the audio recording using <code>librosa.feature.mfcc()</code>. Remember to subsample the full matrix as done for Chroma. "
      ]
    },
    {
      "metadata": {
        "id": "xQR7WWPQTJq0",
        "colab_type": "code",
        "colab": {
          "autoexec": {
            "startup": false,
            "wait_interval": 0
          }
        }
      },
      "cell_type": "code",
      "source": [
        "# Extract MFCCs vectors.\n",
        "mfccs_matrix = []  # TODO: complete.\n",
        "\n",
        "# Subsample.\n",
        "mfccs_matrix_resampled = []  # TODO: complete.\n",
        "\n",
        "print 'MFCCs feature matrix size: %d x %d' % np.shape(mfccs_matrix_resampled)\n",
        "\n",
        "# Remove the full size Chroma matrix (we don't need it anymore).\n",
        "del mfccs_matrix"
      ],
      "execution_count": 0,
      "outputs": []
    },
    {
      "metadata": {
        "id": "hOHACSqzTJq2",
        "colab_type": "text"
      },
      "cell_type": "markdown",
      "source": [
        "### Question\n",
        "Compute the MFCC self-similarity matrix."
      ]
    },
    {
      "metadata": {
        "id": "venYAGw1TJq3",
        "colab_type": "code",
        "colab": {
          "autoexec": {
            "startup": false,
            "wait_interval": 0
          }
        }
      },
      "cell_type": "code",
      "source": [
        "mfccs_self_similarity = []  # TODO: complete.\n",
        "print 'MFCCs self-similarity matrix size: %d x %d' % np.shape(mfccs_self_similarity)"
      ],
      "execution_count": 0,
      "outputs": []
    },
    {
      "metadata": {
        "id": "LFE1BqGcTJq6",
        "colab_type": "code",
        "colab": {
          "autoexec": {
            "startup": false,
            "wait_interval": 0
          }
        }
      },
      "cell_type": "code",
      "source": [
        "bokeh_imshow(mfccs_self_similarity)"
      ],
      "execution_count": 0,
      "outputs": []
    },
    {
      "metadata": {
        "id": "6igBzCy_TJq8",
        "colab_type": "text"
      },
      "cell_type": "markdown",
      "source": [
        "### Question\n",
        "Choose to use either <code>chroma_self_similarity</code> or <code>mfccs_self_similarity</code> to extract novelty and motivate your choice."
      ]
    },
    {
      "metadata": {
        "id": "pRv8UkoxTJq8",
        "colab_type": "code",
        "colab": {
          "autoexec": {
            "startup": false,
            "wait_interval": 0
          }
        }
      },
      "cell_type": "code",
      "source": [
        "# TODO: make your choice by uncommenting one of the following two lines.\n",
        "# audio_self_similarity = mfccs_self_similarity\n",
        "# audio_self_similarity = chroma_self_similarity"
      ],
      "execution_count": 0,
      "outputs": []
    },
    {
      "metadata": {
        "id": "bIJcbuPBTJrM",
        "colab_type": "text"
      },
      "cell_type": "markdown",
      "source": [
        "### Novelty curve\n",
        "Use the chosen self-similarity matrix to derive a novelty curve for the audio stream."
      ]
    },
    {
      "metadata": {
        "id": "l4zFKBd3TJrO",
        "colab_type": "text"
      },
      "cell_type": "markdown",
      "source": [
        "### Question\n",
        "Extract the novelty curve. Try different kernel sizes."
      ]
    },
    {
      "metadata": {
        "id": "FvhCN780TJrR",
        "colab_type": "code",
        "colab": {
          "autoexec": {
            "startup": false,
            "wait_interval": 0
          }
        }
      },
      "cell_type": "code",
      "source": [
        "audio_novelty = []  # TODO: complete.\n",
        "\n",
        "bokeh_plot(audio_novelty, title='Audio Novelty')"
      ],
      "execution_count": 0,
      "outputs": []
    },
    {
      "metadata": {
        "id": "tWVWbQZyTJrV",
        "colab_type": "text"
      },
      "cell_type": "markdown",
      "source": [
        "# Finding scenes via analysis of the novelty curves.\n",
        "Above, you have extracted two novelty curves (namely, <code>audio_novelty</code> and <code>video_novelty</code>). The peaks in those signals can be interpreted as *boundaries* between shots/scenes. Depending on the parameters you chose above, you will found the strongest peaks at different locations.\n",
        "\n",
        "The two novelty signals may be complementary: that is, they may reflect different types of episodical changes. As final step, you therefore will combine the two novelty signals, extract its peaks and spot the strongest ones by visual inspection of the plots."
      ]
    },
    {
      "metadata": {
        "id": "OKDSOCu1TJrX",
        "colab_type": "text"
      },
      "cell_type": "markdown",
      "source": [
        "First, we create a scaling function for the novelty vectors. We do this as a normalization step, to ensure both vectors are in similar range."
      ]
    },
    {
      "metadata": {
        "id": "x-q4xHNGTJrZ",
        "colab_type": "code",
        "colab": {
          "autoexec": {
            "startup": false,
            "wait_interval": 0
          }
        }
      },
      "cell_type": "code",
      "source": [
        "def scale_vector(v):\n",
        "  return (v - np.min(v)) / (np.max(v) - np.min(v))"
      ],
      "execution_count": 0,
      "outputs": []
    },
    {
      "metadata": {
        "id": "FzMXBR7xTJrb",
        "colab_type": "text"
      },
      "cell_type": "markdown",
      "source": [
        "Then, we create a function that detects peaks in a vector. "
      ]
    },
    {
      "metadata": {
        "id": "VN3ja5gDTJrb",
        "colab_type": "code",
        "colab": {
          "autoexec": {
            "startup": false,
            "wait_interval": 0
          }
        }
      },
      "cell_type": "code",
      "source": [
        "def detect_peaks(data, threshold = None):\n",
        "  # Use scipy.signal.find_peaks_cwt to detect peaks.\n",
        "  peaks_positions = np.array(\n",
        "      find_peaks_cwt(data, np.arange(1, 10)))\n",
        "\n",
        "  if 0 == len(peaks_positions):\n",
        "    return []\n",
        "\n",
        "  if threshold is not None:\n",
        "    # Filter peaks by thresholding.\n",
        "    mask = data[peaks_positions] > threshold\n",
        "    peaks_positions = peaks_positions[mask]\n",
        "  \n",
        "  return peaks_positions"
      ],
      "execution_count": 0,
      "outputs": []
    },
    {
      "metadata": {
        "id": "UbEovLaUTJrf",
        "colab_type": "code",
        "colab": {
          "autoexec": {
            "startup": false,
            "wait_interval": 0
          }
        }
      },
      "cell_type": "code",
      "source": [
        "video_novelty_normalized = scale_vector(video_novelty)\n",
        "video_boundaries = detect_peaks(video_novelty_normalized)\n",
        "print 'number of video boundaries: %d' % len(video_boundaries)\n",
        "\n",
        "audio_novelty_normalized = scale_vector(audio_novelty)\n",
        "audio_boundaries = detect_peaks(audio_novelty_normalized)\n",
        "print 'number of audio boundaries: %d' % len(audio_boundaries)\n",
        "\n",
        "bokeh_plot_n_peak(video_novelty_normalized, video_boundaries, \n",
        "                  video_novelty_normalized[video_boundaries],\n",
        "                  title=None, plot_width=800, plot_height=200,\n",
        "                  x_axis_label='time (s)', y_axis_label='Video Novelty', \n",
        "                  plot_color='blue')\n",
        "bokeh_plot_n_peak(audio_novelty_normalized, audio_boundaries, \n",
        "                  audio_novelty_normalized[audio_boundaries],\n",
        "                  title=None, plot_width=800, plot_height=200,\n",
        "                  x_axis_label='time (s)', y_axis_label='Audio Novelty', \n",
        "                  plot_color='green')"
      ],
      "execution_count": 0,
      "outputs": []
    },
    {
      "metadata": {
        "id": "-NTy5rSGTJrj",
        "colab_type": "text"
      },
      "cell_type": "markdown",
      "source": [
        "Let's combine the two novelty curves. Below, you find two possible ways. Feel free to test different options."
      ]
    },
    {
      "metadata": {
        "id": "xhOvSrwKTJrk",
        "colab_type": "code",
        "colab": {
          "autoexec": {
            "startup": false,
            "wait_interval": 0
          }
        }
      },
      "cell_type": "code",
      "source": [
        "# Soft-and merging. If novelty is high in both signals, the combined result will be high.\n",
        "# However, if it is high in one signal but low in the other, the combined result will be penalized.\n",
        "soft_and_novelty = video_novelty_normalized * audio_novelty_normalized\n",
        "soft_and_boundaries = detect_peaks(soft_and_novelty)\n",
        "print 'number of soft-and boundaries: %d' % len(soft_and_boundaries)\n",
        "\n",
        "# Soft-or merging. If novelty is high in at least one of the signals, the combined result will be high.\n",
        "soft_or_novelty = video_novelty_normalized + audio_novelty_normalized\n",
        "soft_or_boundaries = detect_peaks(soft_or_novelty)\n",
        "print 'number of soft-or boundaries: %d' % len(soft_or_boundaries)\n",
        "\n",
        "bokeh_plot_n_peak(soft_and_novelty, soft_and_boundaries, \n",
        "                  soft_and_novelty[soft_and_boundaries],\n",
        "                  title=None, plot_width=800, plot_height=200,\n",
        "                  x_axis_label='time (s)', y_axis_label='Video Novelty', \n",
        "                  plot_color='blue')\n",
        "bokeh_plot_n_peak(soft_or_novelty, soft_or_boundaries, \n",
        "                  soft_or_novelty[soft_or_boundaries],\n",
        "                  title=None, plot_width=800, plot_height=200,\n",
        "                  x_axis_label='time (s)', y_axis_label='Audio Novelty', \n",
        "                  plot_color='green')"
      ],
      "execution_count": 0,
      "outputs": []
    },
    {
      "metadata": {
        "id": "4BGCBPYaTJro",
        "colab_type": "text"
      },
      "cell_type": "markdown",
      "source": [
        "# What to hand in\n",
        "\n",
        "Based on the analysis so far, you can conduct different types of multimodal structural analyses on the Big Buck Bunny video. As you noticed, the default analysis we conducted so far may not be optimal yet though.\n",
        "\n",
        "Play with parameter settings, different analysis window sizes, audio feature types, and similarity metrics to see if you can detect the strongest episodical changes in the video based on video and audio content in a better way than done so far in the lab.\n",
        "\n",
        "As an alternative (or complement) to novelty point analysis from a self-similarity matrix, you may also want to look at feature statistics *within* episode blocks over time. For example, you could investigate audio loudness, which you can calculate using <code>librosa.feature.rmse</code>, or consider how shot boundary density evolves over the timeline of the video.\n",
        "\n",
        "To demonstrate you completed this assignment, please upload a file [studentNumberMember1_studentNumberMember2.pdf] to Brightspace in which you include the following:\n",
        "\n",
        "- three detected *scene* boundaries in the video (formatted as hh:mm:ss) indicating the strongest episodical changes in the video used in this lab. Discuss what parameters and audio features you used to detect them (e.g., threshold choices, choice of audio feature, choice of similarity metric), and shortly discuss what content is displayed within the shots across these boundaries.\n",
        "- your ideas on what further features could contribute to picking scene boundaries with strong episodical changes in the Big Buck Bunny video."
      ]
    },
    {
      "metadata": {
        "id": "TBjKsPgwTJro",
        "colab_type": "code",
        "colab": {
          "autoexec": {
            "startup": false,
            "wait_interval": 0
          }
        }
      },
      "cell_type": "code",
      "source": [
        ""
      ],
      "execution_count": 0,
      "outputs": []
    }
  ]
}