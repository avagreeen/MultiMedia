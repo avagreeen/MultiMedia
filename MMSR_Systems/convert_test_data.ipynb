{
 "cells": [
  {
   "cell_type": "code",
   "execution_count": 2,
   "metadata": {},
   "outputs": [],
   "source": [
    "import numpy as np\n",
    "import cv2\n",
    "import glob\n",
    "from PIL import Image\n",
    "import matplotlib.pyplot as plt # \n",
    "import matplotlib.image as mpimg \n",
    "from skimage import io"
   ]
  },
  {
   "cell_type": "code",
   "execution_count": 3,
   "metadata": {},
   "outputs": [],
   "source": [
    "path='/home/ava/Dropbox/MultiMedia/Emotion-Detection-in-Videos/out_img'\n",
    "file_list = glob.glob(path+'/*')\n",
    "count = 0;\n",
    "\n",
    "dict_={}\n",
    "\n",
    "for folder in file_list:\n",
    "   # count=count+1\n",
    "   # if count ==7:\n",
    "   #     break\n",
    "    images=glob.glob(folder+'/*')\n",
    "    arr = np.empty((0,2304), int)\n",
    "    for image in images:\n",
    "        img = io.imread(image,as_grey=True)\n",
    "        img = img.reshape(1,len(img)**2)\n",
    "        arr = np.append(arr, np.array(img), axis=0)\n",
    "    movie = folder.split('/')[-1]\n",
    "    dict_[movie]=arr"
   ]
  },
  {
   "cell_type": "code",
   "execution_count": 4,
   "metadata": {},
   "outputs": [],
   "source": [
    "len(dict_)\n",
    "np.save('./' + 'dict_of_movie',dict_)"
   ]
  },
  {
   "cell_type": "code",
   "execution_count": 6,
   "metadata": {},
   "outputs": [],
   "source": [
    "from sklearn.externals import joblib\n",
    "emotion={}\n",
    "clf = joblib.load(\"train_model_7.m\")\n",
    "\n",
    "for item in dict_:\n",
    "    data = dict_[item]\n",
    "    if data.shape[0]!=0:\n",
    "        pred = clf.predict(data)\n",
    "        emotion[item]=pred\n",
    "    else:\n",
    "        emotion[item]=[]\n",
    "    "
   ]
  },
  {
   "cell_type": "code",
   "execution_count": null,
   "metadata": {},
   "outputs": [],
   "source": [
    "np.save('./' + 'dict_of_prediction',emotion)"
   ]
  },
  {
   "cell_type": "code",
   "execution_count": null,
   "metadata": {},
   "outputs": [],
   "source": [
    "from scipy.stats import mode\n",
    "print mode(emotion[item])[0][0]"
   ]
  },
  {
   "cell_type": "code",
   "execution_count": null,
   "metadata": {},
   "outputs": [],
   "source": [
    "s_emotion={}\n",
    "for item in emotion:\n",
    "    pre = np.array(emotion[item])\n",
    "    print pre\n",
    "    if pre.shape[0]!=0:\n",
    "        single = mode(emotion[item])[0][0]\n",
    "        s_emotion[item]=single\n",
    "    else:\n",
    "        s_emotion[item]=[]\n",
    "np.save('./' + 'emotion_prediction',s_emotion)"
   ]
  },
  {
   "cell_type": "markdown",
   "metadata": {},
   "source": [
    "# Hog feature"
   ]
  },
  {
   "cell_type": "code",
   "execution_count": null,
   "metadata": {},
   "outputs": [],
   "source": [
    "import Hog_descriptor\n",
    "path='/home/ava/Dropbox/MultiMedia/Emotion-Detection-in-Videos/out_img'\n",
    "file_list = glob.glob(path+'/*')\n",
    "count = 0;\n",
    "\n",
    "dict_={}\n",
    "\n",
    "for folder in file_list:\n",
    "   # count=count+1\n",
    "   # if count ==7:\n",
    "   #     break\n",
    "    images=glob.glob(folder+'/*')\n",
    "    arr = np.empty((0,2304), int)\n",
    "    for image in images:\n",
    "        img = io.imread(image,as_grey=True)\n",
    "        #img = img.reshape(1,len(img)**2)\n",
    "        hog = Hog_descriptor(img, cell_size=8, bin_size=8)\n",
    "        arr = np.append(arr, np.array(img), axis=0)\n",
    "    movie = folder.split('/')[-1]\n",
    "    dict_[movie]=arr"
   ]
  },
  {
   "cell_type": "code",
   "execution_count": null,
   "metadata": {},
   "outputs": [],
   "source": []
  },
  {
   "cell_type": "code",
   "execution_count": null,
   "metadata": {},
   "outputs": [],
   "source": [
    "image"
   ]
  }
 ],
 "metadata": {
  "kernelspec": {
   "display_name": "Python 2",
   "language": "python",
   "name": "python2"
  },
  "language_info": {
   "codemirror_mode": {
    "name": "ipython",
    "version": 2
   },
   "file_extension": ".py",
   "mimetype": "text/x-python",
   "name": "python",
   "nbconvert_exporter": "python",
   "pygments_lexer": "ipython2",
   "version": "2.7.13"
  }
 },
 "nbformat": 4,
 "nbformat_minor": 2
}
