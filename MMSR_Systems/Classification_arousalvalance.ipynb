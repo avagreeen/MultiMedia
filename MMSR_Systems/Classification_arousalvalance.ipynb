{
 "cells": [
  {
   "cell_type": "markdown",
   "metadata": {},
   "source": [
    "## Task 2 : Clasification of emotion of videos into happy,  sad,  angry and neutral\n",
    "## Violent and Non-Violent videos\n",
    "As per papaer by alan,\n",
    "### 1.Value of valance v and arousal a  = Levels of excitement and positiveness of video segment.\n",
    "### 2.The overall Affective labels is derived from the areas in the 2D affect space trained by the affect curve.\n",
    "### 3.Therefore we don't need particular labels , but the values ov v and a is sufficient\n",
    "\n",
    "### A+ and V- = Nervous, Angry, Annoyed\n",
    "### A+ and V+ = Pleased, happy, Excited\n",
    "### A- and V- = Sad, Bored, Sleepy\n",
    "### A- and V+ is Relaxed, Peaceful, Calm\n",
    "\n",
    "### Violent video = A+, A- and V-\n",
    "### Non-Violent video = A+ , A- and V+\n",
    "\n",
    "We need to classify the video as violent and non-violent based on the features extracted.\n",
    "Do normalize the values of valance and arousal"
   ]
  },
  {
   "cell_type": "code",
   "execution_count": 2,
   "metadata": {},
   "outputs": [
    {
     "name": "stderr",
     "output_type": "stream",
     "text": [
      "C:\\Users\\Nivedita Prasad\\Anaconda3\\envs\\py36\\lib\\site-packages\\sklearn\\cross_validation.py:41: DeprecationWarning: This module was deprecated in version 0.18 in favor of the model_selection module into which all the refactored classes and functions are moved. Also note that the interface of the new CV iterators are different from that of this module. This module will be removed in 0.20.\n",
      "  \"This module will be removed in 0.20.\", DeprecationWarning)\n"
     ]
    }
   ],
   "source": [
    "#import files\n",
    "%matplotlib inline\n",
    "import pandas as pd\n",
    "import matplotlib.pyplot as plt\n",
    "import seaborn as sns\n",
    "from pandas.tools.plotting import scatter_matrix\n",
    "from matplotlib import cm\n",
    "from sklearn.model_selection import train_test_split\n",
    "from sklearn.preprocessing import MinMaxScaler\n",
    "import numpy as np\n",
    "from imblearn.over_sampling import SMOTE\n",
    "import seaborn as sns\n",
    "from sklearn.cross_validation import train_test_split\n",
    "from sklearn.neighbors import KNeighborsClassifier\n",
    "from sklearn.linear_model import LogisticRegression\n",
    "from sklearn.ensemble import RandomForestClassifier\n",
    "from sklearn.metrics import roc_curve, roc_auc_score, recall_score, precision_score, auc, precision_recall_curve, accuracy_score, f1_score, confusion_matrix, average_precision_score\n",
    "from sklearn.base import clone\n",
    "import pickle\n",
    "from sklearn import tree\n",
    "from sklearn.metrics import accuracy_score"
   ]
  },
  {
   "cell_type": "markdown",
   "metadata": {},
   "source": [
    "##### Read all the csv files and Familirization"
   ]
  },
  {
   "cell_type": "code",
   "execution_count": 3,
   "metadata": {},
   "outputs": [],
   "source": [
    "#read arousal\n",
    "featuresArousal_TAC2015 = pd.read_csv('ACCEDEfeaturesArousal_TAC2015.csv')\n",
    "featuresArousal_TAC2015_temp =featuresArousal_TAC2015.drop('id',axis=1)\n",
    "featuresArousal_TAC2015_temp = featuresArousal_TAC2015_temp.drop('name' ,axis=1)"
   ]
  },
  {
   "cell_type": "code",
   "execution_count": 3,
   "metadata": {},
   "outputs": [],
   "source": [
    "#read valance\n",
    "featuresValence_TAC2015 = pd.read_csv('ACCEDEfeaturesValence_TAC2015.csv')\n",
    "featuresValence_TAC2015_temp =featuresValence_TAC2015.drop('id',axis=1)\n",
    "featuresValence_TAC2015_temp = featuresValence_TAC2015_temp.drop('name' ,axis=1)"
   ]
  },
  {
   "cell_type": "code",
   "execution_count": 5,
   "metadata": {
    "collapsed": true
   },
   "outputs": [
    {
     "data": {
      "text/html": [
       "<div>\n",
       "<style scoped>\n",
       "    .dataframe tbody tr th:only-of-type {\n",
       "        vertical-align: middle;\n",
       "    }\n",
       "\n",
       "    .dataframe tbody tr th {\n",
       "        vertical-align: top;\n",
       "    }\n",
       "\n",
       "    .dataframe thead th {\n",
       "        text-align: right;\n",
       "    }\n",
       "</style>\n",
       "<table border=\"1\" class=\"dataframe\">\n",
       "  <thead>\n",
       "    <tr style=\"text-align: right;\">\n",
       "      <th></th>\n",
       "      <th>violence</th>\n",
       "    </tr>\n",
       "  </thead>\n",
       "  <tbody>\n",
       "    <tr>\n",
       "      <th>0</th>\n",
       "      <td>0</td>\n",
       "    </tr>\n",
       "    <tr>\n",
       "      <th>1</th>\n",
       "      <td>0</td>\n",
       "    </tr>\n",
       "    <tr>\n",
       "      <th>2</th>\n",
       "      <td>0</td>\n",
       "    </tr>\n",
       "    <tr>\n",
       "      <th>3</th>\n",
       "      <td>0</td>\n",
       "    </tr>\n",
       "    <tr>\n",
       "      <th>4</th>\n",
       "      <td>0</td>\n",
       "    </tr>\n",
       "  </tbody>\n",
       "</table>\n",
       "</div>"
      ],
      "text/plain": [
       "   violence\n",
       "0         0\n",
       "1         0\n",
       "2         0\n",
       "3         0\n",
       "4         0"
      ]
     },
     "execution_count": 5,
     "metadata": {},
     "output_type": "execute_result"
    }
   ],
   "source": [
    "#read ACCEDEviolence - labels\n",
    "ACCEDEviolence = pd.read_csv('ACCEDEviolence.csv')\n",
    "ACCEDEviolence_temp =ACCEDEviolence.drop('id',axis=1)\n",
    "ACCEDEviolence_temp = ACCEDEviolence_temp.drop('name' ,axis=1)\n",
    "ACCEDEviolence_temp.head()"
   ]
  },
  {
   "cell_type": "code",
   "execution_count": 6,
   "metadata": {},
   "outputs": [
    {
     "data": {
      "text/plain": [
       "0    9360\n",
       "1     440\n",
       "Name: violence, dtype: int64"
      ]
     },
     "execution_count": 6,
     "metadata": {},
     "output_type": "execute_result"
    }
   ],
   "source": [
    "ACCEDEviolence_temp.violence.value_counts()\n",
    "#0    9360\n",
    "#1     440"
   ]
  },
  {
   "cell_type": "code",
   "execution_count": 7,
   "metadata": {
    "collapsed": true
   },
   "outputs": [
    {
     "name": "stdout",
     "output_type": "stream",
     "text": [
      "   valenceRank  arousalRank  valenceValue  arousalValue  valenceVariance  \\\n",
      "0         3755          787      2.764340      1.366938         0.118453   \n",
      "1         6711         6428      3.260093      2.792376         0.104211   \n",
      "2         5043         3591      3.047528      1.840160         0.109841   \n",
      "3         7584         5615      3.338461      2.470821         0.100953   \n",
      "4         5014         4463      3.042496      2.082151         0.110000   \n",
      "\n",
      "   arousalVariance  \n",
      "0         0.148906  \n",
      "1         0.154526  \n",
      "2         0.149310  \n",
      "3         0.164621  \n",
      "4         0.163321  \n"
     ]
    }
   ],
   "source": [
    "#read ranking\n",
    "ACCEDEranking = pd.read_csv('ACCEDEranking.csv')\n",
    "ACCEDEranking.head()\n",
    "ACCEDEranking_temp = ACCEDEranking.drop('id' ,axis=1)\n",
    "ACCEDEranking_temp = ACCEDEranking_temp.drop('name' ,axis=1)\n",
    "\n",
    "valenceValue = ACCEDEranking_temp['valenceValue'].values\n",
    "arousalValue = ACCEDEranking_temp['arousalValue'].values\n",
    "#valenceValue #array\n",
    "#len(valenceValue) #9800\n",
    "print(ACCEDEranking_temp.head(5))\n",
    "\n",
    "#0    4900\n",
    "#1    2450\n",
    "#2    2450"
   ]
  },
  {
   "cell_type": "code",
   "execution_count": 8,
   "metadata": {
    "collapsed": true
   },
   "outputs": [
    {
     "data": {
      "text/html": [
       "<div>\n",
       "<style scoped>\n",
       "    .dataframe tbody tr th:only-of-type {\n",
       "        vertical-align: middle;\n",
       "    }\n",
       "\n",
       "    .dataframe tbody tr th {\n",
       "        vertical-align: top;\n",
       "    }\n",
       "\n",
       "    .dataframe thead th {\n",
       "        text-align: right;\n",
       "    }\n",
       "</style>\n",
       "<table border=\"1\" class=\"dataframe\">\n",
       "  <thead>\n",
       "    <tr style=\"text-align: right;\">\n",
       "      <th></th>\n",
       "      <th>valenceRank</th>\n",
       "      <th>arousalRank</th>\n",
       "      <th>valenceValue</th>\n",
       "      <th>arousalValue</th>\n",
       "      <th>valenceVariance</th>\n",
       "      <th>arousalVariance</th>\n",
       "    </tr>\n",
       "  </thead>\n",
       "  <tbody>\n",
       "    <tr>\n",
       "      <th>0</th>\n",
       "      <td>3755</td>\n",
       "      <td>787</td>\n",
       "      <td>2.764340</td>\n",
       "      <td>1.366938</td>\n",
       "      <td>0.118453</td>\n",
       "      <td>0.148906</td>\n",
       "    </tr>\n",
       "    <tr>\n",
       "      <th>1</th>\n",
       "      <td>6711</td>\n",
       "      <td>6428</td>\n",
       "      <td>3.260093</td>\n",
       "      <td>2.792376</td>\n",
       "      <td>0.104211</td>\n",
       "      <td>0.154526</td>\n",
       "    </tr>\n",
       "    <tr>\n",
       "      <th>2</th>\n",
       "      <td>5043</td>\n",
       "      <td>3591</td>\n",
       "      <td>3.047528</td>\n",
       "      <td>1.840160</td>\n",
       "      <td>0.109841</td>\n",
       "      <td>0.149310</td>\n",
       "    </tr>\n",
       "    <tr>\n",
       "      <th>3</th>\n",
       "      <td>7584</td>\n",
       "      <td>5615</td>\n",
       "      <td>3.338461</td>\n",
       "      <td>2.470821</td>\n",
       "      <td>0.100953</td>\n",
       "      <td>0.164621</td>\n",
       "    </tr>\n",
       "    <tr>\n",
       "      <th>4</th>\n",
       "      <td>5014</td>\n",
       "      <td>4463</td>\n",
       "      <td>3.042496</td>\n",
       "      <td>2.082151</td>\n",
       "      <td>0.110000</td>\n",
       "      <td>0.163321</td>\n",
       "    </tr>\n",
       "  </tbody>\n",
       "</table>\n",
       "</div>"
      ],
      "text/plain": [
       "   valenceRank  arousalRank  valenceValue  arousalValue  valenceVariance  \\\n",
       "0         3755          787      2.764340      1.366938         0.118453   \n",
       "1         6711         6428      3.260093      2.792376         0.104211   \n",
       "2         5043         3591      3.047528      1.840160         0.109841   \n",
       "3         7584         5615      3.338461      2.470821         0.100953   \n",
       "4         5014         4463      3.042496      2.082151         0.110000   \n",
       "\n",
       "   arousalVariance  \n",
       "0         0.148906  \n",
       "1         0.154526  \n",
       "2         0.149310  \n",
       "3         0.164621  \n",
       "4         0.163321  "
      ]
     },
     "execution_count": 8,
     "metadata": {},
     "output_type": "execute_result"
    }
   ],
   "source": [
    "ACCEDEranking_temp.head(5)"
   ]
  },
  {
   "cell_type": "markdown",
   "metadata": {},
   "source": [
    "### Normalizing and Creating training and Test set "
   ]
  },
  {
   "cell_type": "code",
   "execution_count": 9,
   "metadata": {},
   "outputs": [],
   "source": [
    "labels = ACCEDEviolence_temp.violence\n",
    "## convert to numpy array\n",
    "labels = np.array(labels)"
   ]
  },
  {
   "cell_type": "code",
   "execution_count": 10,
   "metadata": {},
   "outputs": [
    {
     "name": "stdout",
     "output_type": "stream",
     "text": [
      "Splitting train and test dataset\n",
      "Applying SMOTE to the training set to balance violent and non-violent classes\n"
     ]
    }
   ],
   "source": [
    "## create train test split\n",
    "print (\"Splitting train and test dataset\")\n",
    "X_train_fa, X_test_fa, y_train_fa, y_test_fa = train_test_split(featuresArousal_TAC2015_temp, labels,test_size=0.40, random_state=0)\n",
    "scaler = MinMaxScaler()\n",
    "X_train_fa = scaler.fit_transform(X_train_fa)\n",
    "X_test_fa = scaler.transform(X_test_fa)\n",
    "\n",
    "## apply SMOTE to the training set\n",
    "print (\"Applying SMOTE to the training set to balance violent and non-violent classes\")\n",
    "intended_ratio = 0.3\n",
    "original_num_non_violent = len([x for x in y_train_fa if x == 0])\n",
    "sm = SMOTE(random_state=12, ratio={1:int(intended_ratio * original_num_non_violent)})\n",
    "X_train_res, y_train_res = sm.fit_sample(X_train_fa, y_train_fa)\n"
   ]
  },
  {
   "cell_type": "code",
   "execution_count": 11,
   "metadata": {},
   "outputs": [],
   "source": [
    "## create classifiers\n",
    "knn = KNeighborsClassifier(n_neighbors=3)\n",
    "lr = LogisticRegression(C=500, penalty='l1', random_state=12)\n",
    "rf = RandomForestClassifier(n_estimators=200, n_jobs=-1, max_depth=10, random_state=12)\n",
    "\n",
    "## create dictionary to store values\n",
    "clf_dict = {\"knn\": {\"clf\": knn}, \"lr\": {\"clf\": lr}, \"rf\": {\"clf\": rf}}\n"
   ]
  },
  {
   "cell_type": "code",
   "execution_count": 12,
   "metadata": {},
   "outputs": [
    {
     "name": "stdout",
     "output_type": "stream",
     "text": [
      "Benchmark between classifiers..\n",
      "KNN\n",
      "Without SMOTE\n",
      "Precision:  0.36538461538461536\n",
      "Recall:  0.10795454545454546\n",
      "F1 Score:  0.16666666666666666\n",
      "AUC:  0.646547354555167\n",
      "With SMOTE\n",
      "Precision:  0.16876574307304787\n",
      "Recall:  0.3806818181818182\n",
      "F1 Score:  0.2338568935427574\n",
      "AUC:  0.6724425747863249\n",
      "\n",
      "LR\n",
      "Without SMOTE\n",
      "Precision:  0.14285714285714285\n",
      "Recall:  0.005681818181818182\n",
      "F1 Score:  0.01092896174863388\n",
      "AUC:  0.7473654817404818\n",
      "With SMOTE\n",
      "Precision:  0.1693121693121693\n",
      "Recall:  0.18181818181818182\n",
      "F1 Score:  0.17534246575342466\n",
      "AUC:  0.7542143186674436\n",
      "\n",
      "RF\n",
      "Without SMOTE\n",
      "Precision:  1.0\n",
      "Recall:  0.005681818181818182\n",
      "F1 Score:  0.01129943502824859\n",
      "AUC:  0.7878226374320125\n",
      "With SMOTE\n",
      "Precision:  0.46153846153846156\n",
      "Recall:  0.17045454545454544\n",
      "F1 Score:  0.24896265560165975\n",
      "AUC:  0.8199558687839937\n",
      "\n",
      "Plotting the ROCs..\n"
     ]
    },
    {
     "data": {
      "image/png": "[encoded data removed]",
      "text/plain": [
       "<matplotlib.figure.Figure at 0x1ef1fd39c88>"
      ]
     },
     "metadata": {},
     "output_type": "display_data"
    },
    {
     "data": {
      "image/png": "[encoded data removed]",
      "text/plain": [
       "<matplotlib.figure.Figure at 0x1ef1fd39ef0>"
      ]
     },
     "metadata": {},
     "output_type": "display_data"
    },
    {
     "data": {
      "image/png": "[encoded data removed]",
      "text/plain": [
       "<matplotlib.figure.Figure at 0x1ef2012c400>"
      ]
     },
     "metadata": {},
     "output_type": "display_data"
    }
   ],
   "source": [
    "print (\"Benchmark between classifiers..\")\n",
    "for k,v in clf_dict.items():\n",
    "    ## train using original dataset\n",
    "    print (k.upper())\n",
    "    print (\"Without SMOTE\")\n",
    "    clf = clone(v['clf'])\n",
    "    clf.fit(X_train_fa, y_train_fa)\n",
    "    pred_proba = clf.predict_proba(X_test_fa)[:,1]\n",
    "    pred = clf.predict(X_test_fa)\n",
    "    fpr, tpr, thresholds = roc_curve(y_test_fa, pred_proba, pos_label=1)\n",
    "    auc_score = auc(fpr, tpr)\n",
    "    print (\"Precision: \", precision_score(y_test_fa, pred))\n",
    "    print (\"Recall: \", recall_score(y_test_fa, pred))\n",
    "    print (\"F1 Score: \", f1_score(y_test_fa, pred))\n",
    "    print (\"AUC: \", auc_score)\n",
    "    precision, recall, _ = precision_recall_curve(y_test_fa, pred_proba)\n",
    "    v['non-smote'] = {}\n",
    "    v['non-smote']['fpr'] = fpr\n",
    "    v['non-smote']['tpr'] = tpr\n",
    "    v['non-smote']['thresholds'] = thresholds\n",
    "    v['non-smote']['auc'] = auc_score\n",
    "    v['non-smote']['recall'] = recall\n",
    "    v['non-smote']['precision'] = precision\n",
    "    ## train using SMOTE\n",
    "    print (\"With SMOTE\")\n",
    "    clf = clone(v['clf'])\n",
    "    clf.fit(X_train_res, y_train_res)\n",
    "    pred_proba = clf.predict_proba(X_test_fa)[:,1]\n",
    "    pred = clf.predict(X_test_fa)\n",
    "    fpr, tpr, thresholds = roc_curve(y_test_fa, pred_proba, pos_label=1)\n",
    "    auc_score = auc(fpr, tpr)\n",
    "    print (\"Precision: \", precision_score(y_test_fa, pred))\n",
    "    print (\"Recall: \", recall_score(y_test_fa, pred))\n",
    "    print (\"F1 Score: \", f1_score(y_test_fa, pred))\n",
    "    print (\"AUC: \", auc_score)\n",
    "    precision, recall, _ = precision_recall_curve(y_test_fa, pred_proba)\n",
    "    v['smote'] = {}\n",
    "    v['smote']['fpr'] = fpr\n",
    "    v['smote']['tpr'] = tpr\n",
    "    v['smote']['thresholds'] = thresholds\n",
    "    v['smote']['auc'] = auc_score\n",
    "    v['smote']['recall'] = recall\n",
    "    v['smote']['precision'] = precision\n",
    "    print (\"\")\n",
    "\n",
    "## save the result to a pickle file    \n",
    "# if it's already there uncoment the following two lines\n",
    "# with open('imbalance_task_result.pickle', 'rb') as handle:\n",
    "#    clf_dict = pickle.load(handle)\n",
    "with open('imbalance_task_result.pickle', 'wb') as handle:\n",
    "    pickle.dump(clf_dict, handle, protocol=pickle.HIGHEST_PROTOCOL)\n",
    "\n",
    "# plot the ROCs\n",
    "print (\"Plotting the ROCs..\")\n",
    "for k in clf_dict.keys():\n",
    "    plt.title('Receiver Operating Characteristic: ' + k.upper())\n",
    "\n",
    "    plt.plot(clf_dict[k]['smote']['fpr'], clf_dict[k]['smote']['tpr'], 'b',label='SMOTE: AUC = %0.2f'% clf_dict[k]['smote']['auc'])\n",
    "    plt.plot(clf_dict[k]['non-smote']['fpr'], clf_dict[k]['non-smote']['tpr'], 'g',label='Original: AUC = %0.2f'% clf_dict[k]['non-smote']['auc'])\n",
    "\n",
    "    plt.legend(loc='lower right', fontsize=\"xx-large\")\n",
    "    plt.plot([0,1],[0,1],'k--')\n",
    "    plt.xlim([0,1.0])\n",
    "    plt.ylim([0,1.01])\n",
    "    plt.ylabel('True Positive Rate')\n",
    "    plt.xlabel('False Positive Rate')\n",
    "    plt.show()\n",
    "\n",
    "\n"
   ]
  },
  {
   "cell_type": "code",
   "execution_count": null,
   "metadata": {},
   "outputs": [],
   "source": [
    "\n"
   ]
  },
  {
   "cell_type": "code",
   "execution_count": null,
   "metadata": {},
   "outputs": [],
   "source": []
  }
 ],
 "metadata": {
  "kernelspec": {
   "display_name": "Python [conda env:py36]",
   "language": "python",
   "name": "conda-env-py36-py"
  },
  "language_info": {
   "codemirror_mode": {
    "name": "ipython",
    "version": 3
   },
   "file_extension": ".py",
   "mimetype": "text/x-python",
   "name": "python",
   "nbconvert_exporter": "python",
   "pygments_lexer": "ipython3",
   "version": "3.6.5"
  }
 },
 "nbformat": 4,
 "nbformat_minor": 2
}
